{
 "cells": [
  {
   "cell_type": "code",
   "execution_count": 38,
   "metadata": {},
   "outputs": [],
   "source": [
    "# Dependencies\n",
    "%matplotlib inline\n",
    "import tweepy\n",
    "import numpy as np\n",
    "import pandas as pd\n",
    "import matplotlib.pyplot as plt\n",
    "import json\n",
    "import time\n",
    "import seaborn as sns\n",
    "\n",
    "\n",
    "# Import and Initialize Sentiment Analyzer\n",
    "from vaderSentiment.vaderSentiment import SentimentIntensityAnalyzer\n",
    "analyzer = SentimentIntensityAnalyzer()\n",
    "\n",
    "# Twitter API Keys\n",
    "from config import (consumer_key, \n",
    "                    consumer_secret, \n",
    "                    access_token, \n",
    "                    access_token_secret)\n",
    "\n",
    "# Setup Tweepy API Authentication\n",
    "auth = tweepy.OAuthHandler(consumer_key, consumer_secret)\n",
    "auth.set_access_token(access_token, access_token_secret)\n",
    "api = tweepy.API(auth, parser=tweepy.parsers.JSONParser())"
   ]
  },
  {
   "cell_type": "code",
   "execution_count": 39,
   "metadata": {},
   "outputs": [],
   "source": [
    "# Target Search Term\n",
    "news_accounts = [\"@BBC\", \"@CBS\", \"@CNN\",\"@FoxNews\", \"@nytimes\"]\n",
    "\n",
    "# Create dictionary to hold text information\n",
    "tweet_dict = {\n",
    "    \"account\": [],\n",
    "    \"text\": [],\n",
    "    \"date\": [],\n",
    "    \"compound_score\": [],\n",
    "    \"pos_score\": [],\n",
    "    \"neu_score\": [],\n",
    "    \"neg_score\": []\n",
    "}\n",
    "\n",
    "# Grab 100 tweets from each account\n",
    "for x in range(5):\n",
    "    \n",
    "    # Loop through all news accounts\n",
    "    for account in news_accounts:\n",
    "        \n",
    "        # Grab the tweets\n",
    "        tweets = api.user_timeline(account, page=x)\n",
    "    \n",
    "        # For each tweet store it into the dictionary\n",
    "        for tweet in tweets:\n",
    "            \n",
    "            # All data is grabbed from the JSON returned by Twitter\n",
    "            tweet_dict[\"account\"].append(tweet[\"user\"][\"name\"])\n",
    "            tweet_dict[\"text\"].append(tweet[\"text\"])\n",
    "            tweet_dict[\"date\"].append(tweet[\"created_at\"])\n",
    "            \n",
    "            # Run sentiment analysis on each tweet using Vader\n",
    "            tweet_dict[\"compound_score\"].append(analyzer.polarity_scores(tweet[\"text\"])[\"compound\"])\n",
    "            tweet_dict[\"pos_score\"].append(analyzer.polarity_scores(tweet[\"text\"])[\"pos\"])\n",
    "            tweet_dict[\"neu_score\"].append(analyzer.polarity_scores(tweet[\"text\"])[\"neu\"])\n",
    "            tweet_dict[\"neg_score\"].append(analyzer.polarity_scores(tweet[\"text\"])[\"neg\"])"
   ]
  },
  {
   "cell_type": "code",
   "execution_count": 40,
   "metadata": {},
   "outputs": [
    {
     "data": {
      "text/html": [
       "<div>\n",
       "<style scoped>\n",
       "    .dataframe tbody tr th:only-of-type {\n",
       "        vertical-align: middle;\n",
       "    }\n",
       "\n",
       "    .dataframe tbody tr th {\n",
       "        vertical-align: top;\n",
       "    }\n",
       "\n",
       "    .dataframe thead th {\n",
       "        text-align: right;\n",
       "    }\n",
       "</style>\n",
       "<table border=\"1\" class=\"dataframe\">\n",
       "  <thead>\n",
       "    <tr style=\"text-align: right;\">\n",
       "      <th></th>\n",
       "      <th>account</th>\n",
       "      <th>text</th>\n",
       "      <th>date</th>\n",
       "      <th>compound_score</th>\n",
       "      <th>pos_score</th>\n",
       "      <th>neu_score</th>\n",
       "      <th>neg_score</th>\n",
       "    </tr>\n",
       "  </thead>\n",
       "  <tbody>\n",
       "    <tr>\n",
       "      <th>0</th>\n",
       "      <td>BBC</td>\n",
       "      <td>RT @bbcasiannetwork: How much do you know abou...</td>\n",
       "      <td>Sat Nov 10 21:45:22 +0000 2018</td>\n",
       "      <td>-0.3182</td>\n",
       "      <td>0.0</td>\n",
       "      <td>0.892</td>\n",
       "      <td>0.108</td>\n",
       "    </tr>\n",
       "    <tr>\n",
       "      <th>1</th>\n",
       "      <td>BBC</td>\n",
       "      <td>RT @BBCWorld: Leaders of France and Germany si...</td>\n",
       "      <td>Sat Nov 10 21:45:03 +0000 2018</td>\n",
       "      <td>0.0000</td>\n",
       "      <td>0.0</td>\n",
       "      <td>1.000</td>\n",
       "      <td>0.000</td>\n",
       "    </tr>\n",
       "    <tr>\n",
       "      <th>2</th>\n",
       "      <td>BBC</td>\n",
       "      <td>For everyone who grew up on a council estate.....</td>\n",
       "      <td>Sat Nov 10 20:07:04 +0000 2018</td>\n",
       "      <td>0.0000</td>\n",
       "      <td>0.0</td>\n",
       "      <td>1.000</td>\n",
       "      <td>0.000</td>\n",
       "    </tr>\n",
       "    <tr>\n",
       "      <th>3</th>\n",
       "      <td>BBC</td>\n",
       "      <td>After 26 years, @MimShaikh_ is looking for the...</td>\n",
       "      <td>Sat Nov 10 19:09:04 +0000 2018</td>\n",
       "      <td>0.0000</td>\n",
       "      <td>0.0</td>\n",
       "      <td>1.000</td>\n",
       "      <td>0.000</td>\n",
       "    </tr>\n",
       "    <tr>\n",
       "      <th>4</th>\n",
       "      <td>BBC</td>\n",
       "      <td>Some 250 big organisations have now pledged to...</td>\n",
       "      <td>Sat Nov 10 18:03:02 +0000 2018</td>\n",
       "      <td>-0.4215</td>\n",
       "      <td>0.0</td>\n",
       "      <td>0.872</td>\n",
       "      <td>0.128</td>\n",
       "    </tr>\n",
       "  </tbody>\n",
       "</table>\n",
       "</div>"
      ],
      "text/plain": [
       "  account                                               text  \\\n",
       "0     BBC  RT @bbcasiannetwork: How much do you know abou...   \n",
       "1     BBC  RT @BBCWorld: Leaders of France and Germany si...   \n",
       "2     BBC  For everyone who grew up on a council estate.....   \n",
       "3     BBC  After 26 years, @MimShaikh_ is looking for the...   \n",
       "4     BBC  Some 250 big organisations have now pledged to...   \n",
       "\n",
       "                             date  compound_score  pos_score  neu_score  \\\n",
       "0  Sat Nov 10 21:45:22 +0000 2018         -0.3182        0.0      0.892   \n",
       "1  Sat Nov 10 21:45:03 +0000 2018          0.0000        0.0      1.000   \n",
       "2  Sat Nov 10 20:07:04 +0000 2018          0.0000        0.0      1.000   \n",
       "3  Sat Nov 10 19:09:04 +0000 2018          0.0000        0.0      1.000   \n",
       "4  Sat Nov 10 18:03:02 +0000 2018         -0.4215        0.0      0.872   \n",
       "\n",
       "   neg_score  \n",
       "0      0.108  \n",
       "1      0.000  \n",
       "2      0.000  \n",
       "3      0.000  \n",
       "4      0.128  "
      ]
     },
     "execution_count": 40,
     "metadata": {},
     "output_type": "execute_result"
    }
   ],
   "source": [
    "# Store the final contents into a DataFrame\n",
    "tweet_df = pd.DataFrame(tweet_dict, columns=[\"account\", \n",
    "                                             \"text\", \n",
    "                                             \"date\",\n",
    "                                             \"compound_score\",\n",
    "                                             \"pos_score\",\n",
    "                                             \"neu_score\",\n",
    "                                             \"neg_score\"])\n",
    "# Export to CSV\n",
    "#file_name = str(time.strftime(\"%m-%d-%y\")) + \"-tweets.csv\"\n",
    "#tweet_df.to_csv(\"TweetMood_DataFrame.csv\", index=false)\n",
    "\n",
    "# Visualize the DataFrame\n",
    "tweet_df.head()\n"
   ]
  },
  {
   "cell_type": "code",
   "execution_count": 41,
   "metadata": {},
   "outputs": [
    {
     "data": {
      "text/plain": [
       "account           499\n",
       "text              499\n",
       "date              499\n",
       "compound_score    499\n",
       "pos_score         499\n",
       "neu_score         499\n",
       "neg_score         499\n",
       "dtype: int64"
      ]
     },
     "execution_count": 41,
     "metadata": {},
     "output_type": "execute_result"
    }
   ],
   "source": [
    "# Check count of number of tweets\n",
    "tweet_df.count()"
   ]
  },
  {
   "cell_type": "code",
   "execution_count": 42,
   "metadata": {},
   "outputs": [
    {
     "data": {
      "text/plain": [
       "array(['BBC', 'CBS', 'CNN', 'Fox News', 'The New York Times'],\n",
       "      dtype=object)"
      ]
     },
     "execution_count": 42,
     "metadata": {},
     "output_type": "execute_result"
    }
   ],
   "source": [
    "# Obtain the source names for reference\n",
    "tweet_df[\"account\"].unique()"
   ]
  },
  {
   "cell_type": "code",
   "execution_count": 43,
   "metadata": {},
   "outputs": [],
   "source": [
    "# Convert dates (currently strings) into datetimes\n",
    "tweet_df[\"date\"] = pd.to_datetime(tweet_df[\"date\"])"
   ]
  },
  {
   "cell_type": "code",
   "execution_count": 44,
   "metadata": {},
   "outputs": [],
   "source": [
    "# Sort the dataframe by date\n",
    "tweet_df.sort_values(\"date\", inplace=True)"
   ]
  },
  {
   "cell_type": "code",
   "execution_count": 45,
   "metadata": {},
   "outputs": [
    {
     "data": {
      "text/html": [
       "<div>\n",
       "<style scoped>\n",
       "    .dataframe tbody tr th:only-of-type {\n",
       "        vertical-align: middle;\n",
       "    }\n",
       "\n",
       "    .dataframe tbody tr th {\n",
       "        vertical-align: top;\n",
       "    }\n",
       "\n",
       "    .dataframe thead th {\n",
       "        text-align: right;\n",
       "    }\n",
       "</style>\n",
       "<table border=\"1\" class=\"dataframe\">\n",
       "  <thead>\n",
       "    <tr style=\"text-align: right;\">\n",
       "      <th></th>\n",
       "      <th>account</th>\n",
       "      <th>text</th>\n",
       "      <th>date</th>\n",
       "      <th>compound_score</th>\n",
       "      <th>pos_score</th>\n",
       "      <th>neu_score</th>\n",
       "      <th>neg_score</th>\n",
       "    </tr>\n",
       "  </thead>\n",
       "  <tbody>\n",
       "    <tr>\n",
       "      <th>438</th>\n",
       "      <td>CBS</td>\n",
       "      <td>#MichaelJacksonHalloween looks like the best k...</td>\n",
       "      <td>2018-10-21 01:00:00</td>\n",
       "      <td>0.7901</td>\n",
       "      <td>0.500</td>\n",
       "      <td>0.500</td>\n",
       "      <td>0.000</td>\n",
       "    </tr>\n",
       "    <tr>\n",
       "      <th>437</th>\n",
       "      <td>CBS</td>\n",
       "      <td>Hey West Coast, a magical adventure of persona...</td>\n",
       "      <td>2018-10-21 03:00:00</td>\n",
       "      <td>0.3818</td>\n",
       "      <td>0.205</td>\n",
       "      <td>0.795</td>\n",
       "      <td>0.000</td>\n",
       "    </tr>\n",
       "    <tr>\n",
       "      <th>436</th>\n",
       "      <td>CBS</td>\n",
       "      <td>Michael Jackson's greatest hits and characters...</td>\n",
       "      <td>2018-10-21 06:00:00</td>\n",
       "      <td>0.8858</td>\n",
       "      <td>0.409</td>\n",
       "      <td>0.591</td>\n",
       "      <td>0.000</td>\n",
       "    </tr>\n",
       "    <tr>\n",
       "      <th>435</th>\n",
       "      <td>CBS</td>\n",
       "      <td>Make your Sunday a touchdown with @NFL on CBS....</td>\n",
       "      <td>2018-10-21 14:00:01</td>\n",
       "      <td>0.0000</td>\n",
       "      <td>0.000</td>\n",
       "      <td>1.000</td>\n",
       "      <td>0.000</td>\n",
       "    </tr>\n",
       "    <tr>\n",
       "      <th>434</th>\n",
       "      <td>CBS</td>\n",
       "      <td>Due to #NFL football overrun #CBS Sunday sched...</td>\n",
       "      <td>2018-10-21 23:44:42</td>\n",
       "      <td>-0.2263</td>\n",
       "      <td>0.000</td>\n",
       "      <td>0.905</td>\n",
       "      <td>0.095</td>\n",
       "    </tr>\n",
       "  </tbody>\n",
       "</table>\n",
       "</div>"
      ],
      "text/plain": [
       "    account                                               text  \\\n",
       "438     CBS  #MichaelJacksonHalloween looks like the best k...   \n",
       "437     CBS  Hey West Coast, a magical adventure of persona...   \n",
       "436     CBS  Michael Jackson's greatest hits and characters...   \n",
       "435     CBS  Make your Sunday a touchdown with @NFL on CBS....   \n",
       "434     CBS  Due to #NFL football overrun #CBS Sunday sched...   \n",
       "\n",
       "                   date  compound_score  pos_score  neu_score  neg_score  \n",
       "438 2018-10-21 01:00:00          0.7901      0.500      0.500      0.000  \n",
       "437 2018-10-21 03:00:00          0.3818      0.205      0.795      0.000  \n",
       "436 2018-10-21 06:00:00          0.8858      0.409      0.591      0.000  \n",
       "435 2018-10-21 14:00:01          0.0000      0.000      1.000      0.000  \n",
       "434 2018-10-21 23:44:42         -0.2263      0.000      0.905      0.095  "
      ]
     },
     "execution_count": 45,
     "metadata": {},
     "output_type": "execute_result"
    }
   ],
   "source": [
    "# Preview the data to confirm data is sorted\n",
    "tweet_df.head()"
   ]
  },
  {
   "cell_type": "code",
   "execution_count": 74,
   "metadata": {},
   "outputs": [
    {
     "data": {
      "image/png": "[encoded data removed]",
      "text/plain": [
       "<Figure size 432x288 with 1 Axes>"
      ]
     },
     "metadata": {},
     "output_type": "display_data"
    }
   ],
   "source": [
    "# Build scatter plot for tracking tweet polarity by tweet history\n",
    "# Note how a few data munging tricks were used to obtain (-100 -> 0 tick marks)\n",
    "plt.scatter(np.arange(-len(tweet_df[tweet_df[\"account\"] == \"BBC\"]), 0, 1), \n",
    "            tweet_df[tweet_df[\"account\"] == \"BBC\"][\"compound_score\"],\n",
    "            edgecolor=\"black\", linewidths=1, marker=\"o\", color=\"lightblue\", s=80,\n",
    "            alpha=0.7, label=\"BBC\")\n",
    "\n",
    "plt.scatter(np.arange(-len(tweet_df[tweet_df[\"account\"] == \"CBS\"]), 0, 1), \n",
    "            tweet_df[tweet_df[\"account\"] == \"CBS\"][\"compound_score\"],\n",
    "            edgecolor=\"black\", linewidths=1, marker=\"o\", color=\"green\", s=80,\n",
    "            alpha=0.7, label=\"CBS\")\n",
    "\n",
    "plt.scatter(np.arange(-len(tweet_df[tweet_df[\"account\"] == \"CNN\"]), 0, 1), \n",
    "            tweet_df[tweet_df[\"account\"] == \"CNN\"][\"compound_score\"],\n",
    "            edgecolor=\"black\", linewidths=1, marker=\"o\", color=\"red\", s=80,\n",
    "            alpha=0.7, label=\"CNN\")\n",
    "\n",
    "plt.scatter(np.arange(-len(tweet_df[tweet_df[\"account\"] == \"Fox News\"]), 0, 1), \n",
    "            tweet_df[tweet_df[\"account\"] == \"Fox News\"][\"compound_score\"],\n",
    "            edgecolor=\"black\", linewidths=1, marker=\"o\", color=\"blue\", s=80,\n",
    "            alpha=0.7, label=\"Fox News\")\n",
    "\n",
    "plt.scatter(np.arange(-len(tweet_df[tweet_df[\"account\"] == \"The New York Times\"]), 0, 1), \n",
    "            tweet_df[tweet_df[\"account\"] == \"The New York Times\"][\"compound_score\"],\n",
    "            edgecolor=\"black\", linewidths=1, marker=\"o\", color=\"yellow\", s=80,\n",
    "            alpha=0.7, label=\"The New York Times\")\n",
    "\n",
    "# Incorporate the other graph properties\n",
    "plt.title(\"Sentiment Analysis of Media Tweets (%s)\" % time.strftime(\"%x\"))\n",
    "plt.ylabel(\"Tweet Polarity\")\n",
    "plt.xlabel(\"Tweets Ago\")\n",
    "plt.xlim([-105, 5])\n",
    "plt.xticks([-100, -80, -60, -40, -20, 0], [100, 80, 60, 40, 20, 0])\n",
    "plt.ylim([-1.05, 1.05])\n",
    "plt.grid(True)\n",
    "\n",
    "# Create a legend\n",
    "legend = plt.legend(fontsize=\"small\",\n",
    "                  loc=\"upper right\",bbox_to_anchor=(1.4, 1), title=\"Media Sources\")\n",
    "\n",
    "plt.show()"
   ]
  },
  {
   "cell_type": "code",
   "execution_count": 48,
   "metadata": {},
   "outputs": [],
   "source": [
    "# Save the figure (and account for the legend being outside the plot when saving)"
   ]
  },
  {
   "cell_type": "code",
   "execution_count": 75,
   "metadata": {},
   "outputs": [
    {
     "data": {
      "text/html": [
       "<div>\n",
       "<style scoped>\n",
       "    .dataframe tbody tr th:only-of-type {\n",
       "        vertical-align: middle;\n",
       "    }\n",
       "\n",
       "    .dataframe tbody tr th {\n",
       "        vertical-align: top;\n",
       "    }\n",
       "\n",
       "    .dataframe thead th {\n",
       "        text-align: right;\n",
       "    }\n",
       "</style>\n",
       "<table border=\"1\" class=\"dataframe\">\n",
       "  <thead>\n",
       "    <tr style=\"text-align: right;\">\n",
       "      <th></th>\n",
       "      <th>compound_score</th>\n",
       "    </tr>\n",
       "    <tr>\n",
       "      <th>account</th>\n",
       "      <th></th>\n",
       "    </tr>\n",
       "  </thead>\n",
       "  <tbody>\n",
       "    <tr>\n",
       "      <th>BBC</th>\n",
       "      <td>0.123919</td>\n",
       "    </tr>\n",
       "    <tr>\n",
       "      <th>CBS</th>\n",
       "      <td>0.163892</td>\n",
       "    </tr>\n",
       "    <tr>\n",
       "      <th>CNN</th>\n",
       "      <td>0.005074</td>\n",
       "    </tr>\n",
       "    <tr>\n",
       "      <th>Fox News</th>\n",
       "      <td>-0.116200</td>\n",
       "    </tr>\n",
       "    <tr>\n",
       "      <th>The New York Times</th>\n",
       "      <td>-0.047622</td>\n",
       "    </tr>\n",
       "  </tbody>\n",
       "</table>\n",
       "</div>"
      ],
      "text/plain": [
       "                    compound_score\n",
       "account                           \n",
       "BBC                       0.123919\n",
       "CBS                       0.163892\n",
       "CNN                       0.005074\n",
       "Fox News                 -0.116200\n",
       "The New York Times       -0.047622"
      ]
     },
     "execution_count": 75,
     "metadata": {},
     "output_type": "execute_result"
    }
   ],
   "source": [
    "# Average all polarities by news source\n",
    "tweet_df_avg_polarity = tweet_df.groupby([\"account\"]).mean()[\"compound_score\"]\n",
    "\n",
    "# View the polarities\n",
    "pd.DataFrame(tweet_df_avg_polarity)"
   ]
  },
  {
   "cell_type": "code",
   "execution_count": 51,
   "metadata": {},
   "outputs": [],
   "source": [
    "# View the polarities"
   ]
  },
  {
   "cell_type": "code",
   "execution_count": null,
   "metadata": {},
   "outputs": [],
   "source": []
  }
 ],
 "metadata": {
  "kernelspec": {
   "display_name": "Python 3",
   "language": "python",
   "name": "python3"
  },
  "language_info": {
   "codemirror_mode": {
    "name": "ipython",
    "version": 3
   },
   "file_extension": ".py",
   "mimetype": "text/x-python",
   "name": "python",
   "nbconvert_exporter": "python",
   "pygments_lexer": "ipython3",
   "version": "3.6.5"
  }
 },
 "nbformat": 4,
 "nbformat_minor": 2
}
